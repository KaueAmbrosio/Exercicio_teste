{
  "nbformat": 4,
  "nbformat_minor": 0,
  "metadata": {
    "colab": {
      "provenance": []
    },
    "kernelspec": {
      "name": "python3",
      "display_name": "Python 3"
    },
    "language_info": {
      "name": "python"
    }
  },
  "cells": [
    {
      "cell_type": "code",
      "execution_count": null,
      "metadata": {
        "colab": {
          "base_uri": "https://localhost:8080/"
        },
        "id": "lSlAOhMZOwKm",
        "outputId": "fae439ec-4503-430d-d8b7-340653a94191"
      },
      "outputs": [
        {
          "output_type": "stream",
          "name": "stdout",
          "text": [
            "39\n",
            "              BEM VINDO AO JOGO DO ADIVINHA!               \n",
            "VOCE TERA 10 TENTATIVAS PARA DESCOBRIR UM NUMERO ALEATORIO!\n",
            "------------------------------------------------------------\n"
          ]
        }
      ],
      "source": [
        "from random import randint\n",
        "randon = (randint(1, 100))\n",
        "print(randon)\n",
        "print(\"              BEM VINDO AO JOGO DO ADIVINHA!               \")\n",
        "print(\"VOCE TERA 10 TENTATIVAS PARA DESCOBRIR UM NUMERO ALEATORIO!\")\n",
        "print(\"-\" * 60)\n",
        "contador = 1\n",
        "x = int(input(f\"{contador}) Digite um numero de zero á cem (0 á 100), por favor: \"))\n",
        "print(\"-\" * 60)\n",
        "contador += 1\n",
        "while contador in range(11):\n",
        "    if  x > 100 or x < 0:\n",
        "        x = int(input(f\"{contador}) Numero inválido, coloque números válidos: \"))\n",
        "        contador += 1\n",
        "        print(\"-\" * 60)\n",
        "    if x > randon and x != randon:\n",
        "        x = int(input(f\"{contador}) Este numero é maior que o sorteado. Tente novamente: \"))\n",
        "        contador += 1\n",
        "        print(\"-\" * 60)\n",
        "    elif x < randon and x != randon:\n",
        "        x = int(input(f\"{contador}) Este numero e menor que o sorteado. Tente novamente: \"))\n",
        "        contador += 1\n",
        "        print(\"-\" * 60)\n",
        "    if x == randon:\n",
        "       print(f\"O numero escolhido foi o correto, parabéns!!! Você descubriu o numero correto em {contador} tentativa(s)\")\n",
        "    if contador > 10:\n",
        "      print(f\"Você estrapolou os limites concedidos!!! O numero correto era {randon}\")\n",
        "      break"
      ]
    }
  ]
}