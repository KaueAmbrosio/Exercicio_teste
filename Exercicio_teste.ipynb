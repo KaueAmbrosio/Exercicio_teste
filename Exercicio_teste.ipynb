{
  "nbformat": 4,
  "nbformat_minor": 0,
  "metadata": {
    "colab": {
      "provenance": []
    },
    "kernelspec": {
      "name": "python3",
      "display_name": "Python 3"
    },
    "language_info": {
      "name": "python"
    }
  },
  "cells": [
    {
      "cell_type": "code",
      "execution_count": null,
      "metadata": {
        "id": "Fa2UkyhKx3FL"
      },
      "outputs": [],
      "source": [
        "from random import randint\n",
        "\n",
        "a= (randint(1,100))\n",
        "\n",
        "certo= 0\n",
        "contador= 1\n",
        "\n",
        "resposta= (input(\"1) Tentativa, Digite um numero de 1 a 100: \"))\n",
        "\n",
        "while contador in range(10):\n",
        "  resposta= (input(f\"{contador+1}) Tentativa, Digite novamente: \"))\n",
        "  contador += 1\n",
        "if resposta == a:\n",
        "  print(\"voce acertou!\")\n",
        "else:\n",
        "  print(f\"Voce errou, o numero certo era: {a}\")"
      ]
    }
  ]
}