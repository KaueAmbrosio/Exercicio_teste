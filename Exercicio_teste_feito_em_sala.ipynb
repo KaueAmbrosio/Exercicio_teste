{
  "nbformat": 4,
  "nbformat_minor": 0,
  "metadata": {
    "colab": {
      "provenance": []
    },
    "kernelspec": {
      "name": "python3",
      "display_name": "Python 3"
    },
    "language_info": {
      "name": "python"
    }
  },
  "cells": [
    {
      "cell_type": "code",
      "execution_count": 60,
      "metadata": {
        "colab": {
          "base_uri": "https://localhost:8080/"
        },
        "id": "l97qK_O06WGu",
        "outputId": "3cf073b1-7f63-444f-acc8-31b2d0126eba"
      },
      "outputs": [
        {
          "output_type": "stream",
          "name": "stdout",
          "text": [
            "1) Tentativa, Digite um numero de 1 a 100: 8\n",
            "2) Tentativa, Digite novamente: 9\n",
            "3) Tentativa, Digite novamente: 5\n",
            "4) Tentativa, Digite novamente: 3\n",
            "5) Tentativa, Digite novamente: 9\n",
            "6) Tentativa, Digite novamente: 54\n",
            "7) Tentativa, Digite novamente: 97\n",
            "8) Tentativa, Digite novamente: 86\n",
            "9) Tentativa, Digite novamente: 67\n",
            "10) Tentativa, Digite novamente: 78\n",
            "Voce errou, o numero certo era: 73\n"
          ]
        }
      ],
      "source": [
        "from random import randint\n",
        "\n",
        "a= (randint(1,100))\n",
        "\n",
        "certo= 0\n",
        "contador= 1\n",
        "\n",
        "resposta= (input(\"1) Tentativa, Digite um numero de 1 a 100: \"))\n",
        "\n",
        "while contador in range(10):\n",
        "  resposta= (input(f\"{contador+1}) Tentativa, Digite novamente: \"))\n",
        "  contador += 1\n",
        "if resposta == a:\n",
        "  print(\"voce acertou!\")\n",
        "else:\n",
        "  print(f\"Voce errou, o numero certo era: {a}\")"
      ]
    }
  ]
}